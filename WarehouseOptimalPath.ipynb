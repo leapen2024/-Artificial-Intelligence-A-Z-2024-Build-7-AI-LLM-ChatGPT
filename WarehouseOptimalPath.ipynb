{
  "nbformat": 4,
  "nbformat_minor": 0,
  "metadata": {
    "colab": {
      "provenance": [],
      "authorship_tag": "ABX9TyP6lp9O8smoXBO5oOIoB904",
      "include_colab_link": true
    },
    "kernelspec": {
      "name": "python3",
      "display_name": "Python 3"
    },
    "language_info": {
      "name": "python"
    }
  },
  "cells": [
    {
      "cell_type": "markdown",
      "metadata": {
        "id": "view-in-github",
        "colab_type": "text"
      },
      "source": [
        "<a href=\"https://colab.research.google.com/github/leapen2024/-Artificial-Intelligence-A-Z-2024-Build-7-AI-LLM-ChatGPT/blob/main/WarehouseOptimalPath.ipynb\" target=\"_parent\"><img src=\"https://colab.research.google.com/assets/colab-badge.svg\" alt=\"Open In Colab\"/></a>"
      ]
    },
    {
      "cell_type": "code",
      "execution_count": null,
      "metadata": {
        "colab": {
          "base_uri": "https://localhost:8080/",
          "height": 351
        },
        "id": "6C9fNZaOhCLb",
        "outputId": "65574aeb-ebed-420b-bad4-6a44df2bae1a"
      },
      "outputs": [
        {
          "metadata": {
            "tags": null
          },
          "name": "stdout",
          "output_type": "stream",
          "text": [
            "Route:\n"
          ]
        },
        {
          "output_type": "error",
          "ename": "KeyboardInterrupt",
          "evalue": "",
          "traceback": [
            "\u001b[0;31m---------------------------------------------------------------------------\u001b[0m",
            "\u001b[0;31mKeyboardInterrupt\u001b[0m                         Traceback (most recent call last)",
            "\u001b[0;32m<ipython-input-19-3a03fa2c29a5>\u001b[0m in \u001b[0;36m<cell line: 65>\u001b[0;34m()\u001b[0m\n\u001b[1;32m     63\u001b[0m \u001b[0;31m# Printing the final route\u001b[0m\u001b[0;34m\u001b[0m\u001b[0;34m\u001b[0m\u001b[0m\n\u001b[1;32m     64\u001b[0m \u001b[0mprint\u001b[0m\u001b[0;34m(\u001b[0m\u001b[0;34m'Route:'\u001b[0m\u001b[0;34m)\u001b[0m\u001b[0;34m\u001b[0m\u001b[0;34m\u001b[0m\u001b[0m\n\u001b[0;32m---> 65\u001b[0;31m \u001b[0mprint\u001b[0m\u001b[0;34m(\u001b[0m\u001b[0mbest_route\u001b[0m\u001b[0;34m(\u001b[0m\u001b[0;34m'E'\u001b[0m\u001b[0;34m,\u001b[0m \u001b[0;34m'K'\u001b[0m\u001b[0;34m,\u001b[0m \u001b[0;34m'G'\u001b[0m\u001b[0;34m)\u001b[0m\u001b[0;34m)\u001b[0m\u001b[0;34m\u001b[0m\u001b[0;34m\u001b[0m\u001b[0m\n\u001b[0m",
            "\u001b[0;32m<ipython-input-19-3a03fa2c29a5>\u001b[0m in \u001b[0;36mbest_route\u001b[0;34m(starting_location, intermediary_location, ending_location)\u001b[0m\n\u001b[1;32m     59\u001b[0m \u001b[0;31m# Making the final function that returns the optimal route\u001b[0m\u001b[0;34m\u001b[0m\u001b[0;34m\u001b[0m\u001b[0m\n\u001b[1;32m     60\u001b[0m \u001b[0;32mdef\u001b[0m \u001b[0mbest_route\u001b[0m\u001b[0;34m(\u001b[0m\u001b[0mstarting_location\u001b[0m\u001b[0;34m,\u001b[0m \u001b[0mintermediary_location\u001b[0m\u001b[0;34m,\u001b[0m \u001b[0mending_location\u001b[0m\u001b[0;34m)\u001b[0m\u001b[0;34m:\u001b[0m\u001b[0;34m\u001b[0m\u001b[0;34m\u001b[0m\u001b[0m\n\u001b[0;32m---> 61\u001b[0;31m     \u001b[0;32mreturn\u001b[0m \u001b[0mroute\u001b[0m\u001b[0;34m(\u001b[0m\u001b[0mstarting_location\u001b[0m\u001b[0;34m,\u001b[0m \u001b[0mintermediary_location\u001b[0m\u001b[0;34m)\u001b[0m \u001b[0;34m+\u001b[0m \u001b[0mroute\u001b[0m\u001b[0;34m(\u001b[0m\u001b[0mintermediary_location\u001b[0m\u001b[0;34m,\u001b[0m \u001b[0mending_location\u001b[0m\u001b[0;34m)\u001b[0m\u001b[0;34m[\u001b[0m\u001b[0;36m1\u001b[0m\u001b[0;34m:\u001b[0m\u001b[0;34m]\u001b[0m\u001b[0;34m\u001b[0m\u001b[0;34m\u001b[0m\u001b[0m\n\u001b[0m\u001b[1;32m     62\u001b[0m \u001b[0;34m\u001b[0m\u001b[0m\n\u001b[1;32m     63\u001b[0m \u001b[0;31m# Printing the final route\u001b[0m\u001b[0;34m\u001b[0m\u001b[0;34m\u001b[0m\u001b[0m\n",
            "\u001b[0;32m<ipython-input-19-3a03fa2c29a5>\u001b[0m in \u001b[0;36mroute\u001b[0;34m(starting_location, ending_location)\u001b[0m\n\u001b[1;32m     50\u001b[0m         \u001b[0;32mwhile\u001b[0m \u001b[0;34m(\u001b[0m\u001b[0mnext_location\u001b[0m \u001b[0;34m!=\u001b[0m \u001b[0mending_location\u001b[0m\u001b[0;34m)\u001b[0m\u001b[0;34m:\u001b[0m\u001b[0;34m\u001b[0m\u001b[0;34m\u001b[0m\u001b[0m\n\u001b[1;32m     51\u001b[0m             \u001b[0mstarting_state\u001b[0m \u001b[0;34m=\u001b[0m \u001b[0mlocation_to_state\u001b[0m\u001b[0;34m[\u001b[0m\u001b[0mstarting_location\u001b[0m\u001b[0;34m]\u001b[0m\u001b[0;34m\u001b[0m\u001b[0;34m\u001b[0m\u001b[0m\n\u001b[0;32m---> 52\u001b[0;31m             \u001b[0mnext_state\u001b[0m \u001b[0;34m=\u001b[0m \u001b[0mnp\u001b[0m\u001b[0;34m.\u001b[0m\u001b[0margmax\u001b[0m\u001b[0;34m(\u001b[0m\u001b[0mQ\u001b[0m\u001b[0;34m[\u001b[0m\u001b[0mstarting_state\u001b[0m\u001b[0;34m,\u001b[0m\u001b[0;34m]\u001b[0m\u001b[0;34m)\u001b[0m\u001b[0;34m\u001b[0m\u001b[0;34m\u001b[0m\u001b[0m\n\u001b[0m\u001b[1;32m     53\u001b[0m             \u001b[0mnext_location\u001b[0m \u001b[0;34m=\u001b[0m \u001b[0mstate_to_location\u001b[0m\u001b[0;34m[\u001b[0m\u001b[0mnext_state\u001b[0m\u001b[0;34m]\u001b[0m\u001b[0;34m\u001b[0m\u001b[0;34m\u001b[0m\u001b[0m\n\u001b[1;32m     54\u001b[0m             \u001b[0mroute\u001b[0m\u001b[0;34m.\u001b[0m\u001b[0mappend\u001b[0m\u001b[0;34m(\u001b[0m\u001b[0mnext_location\u001b[0m\u001b[0;34m)\u001b[0m\u001b[0;34m\u001b[0m\u001b[0;34m\u001b[0m\u001b[0m\n",
            "\u001b[0;32m/usr/local/lib/python3.10/dist-packages/numpy/core/fromnumeric.py\u001b[0m in \u001b[0;36margmax\u001b[0;34m(a, axis, out, keepdims)\u001b[0m\n\u001b[1;32m   1227\u001b[0m     \"\"\"\n\u001b[1;32m   1228\u001b[0m     \u001b[0mkwds\u001b[0m \u001b[0;34m=\u001b[0m \u001b[0;34m{\u001b[0m\u001b[0;34m'keepdims'\u001b[0m\u001b[0;34m:\u001b[0m \u001b[0mkeepdims\u001b[0m\u001b[0;34m}\u001b[0m \u001b[0;32mif\u001b[0m \u001b[0mkeepdims\u001b[0m \u001b[0;32mis\u001b[0m \u001b[0;32mnot\u001b[0m \u001b[0mnp\u001b[0m\u001b[0;34m.\u001b[0m\u001b[0m_NoValue\u001b[0m \u001b[0;32melse\u001b[0m \u001b[0;34m{\u001b[0m\u001b[0;34m}\u001b[0m\u001b[0;34m\u001b[0m\u001b[0;34m\u001b[0m\u001b[0m\n\u001b[0;32m-> 1229\u001b[0;31m     \u001b[0;32mreturn\u001b[0m \u001b[0m_wrapfunc\u001b[0m\u001b[0;34m(\u001b[0m\u001b[0ma\u001b[0m\u001b[0;34m,\u001b[0m \u001b[0;34m'argmax'\u001b[0m\u001b[0;34m,\u001b[0m \u001b[0maxis\u001b[0m\u001b[0;34m=\u001b[0m\u001b[0maxis\u001b[0m\u001b[0;34m,\u001b[0m \u001b[0mout\u001b[0m\u001b[0;34m=\u001b[0m\u001b[0mout\u001b[0m\u001b[0;34m,\u001b[0m \u001b[0;34m**\u001b[0m\u001b[0mkwds\u001b[0m\u001b[0;34m)\u001b[0m\u001b[0;34m\u001b[0m\u001b[0;34m\u001b[0m\u001b[0m\n\u001b[0m\u001b[1;32m   1230\u001b[0m \u001b[0;34m\u001b[0m\u001b[0m\n\u001b[1;32m   1231\u001b[0m \u001b[0;34m\u001b[0m\u001b[0m\n",
            "\u001b[0;31mKeyboardInterrupt\u001b[0m: "
          ]
        }
      ],
      "source": [
        "# Artificial Intelligence for Business\n",
        "# Optimizing Warehouse Flows with Q-Learning\n",
        "# Importing the libraries\n",
        "import numpy as np\n",
        "\n",
        "# Setting the parameters gamma and alpha for the Q-Learning\n",
        "gamma = 0.75\n",
        "alpha = 0.9\n",
        "\n",
        "# PART 1- DEFINING THE ENVIRONMENT\n",
        "# Defining the states\n",
        "location_to_state = {'A': 0, 'B': 1, 'C': 2, 'D': 3, 'E': 4, 'F': 5, 'G': 6, 'H': 7, 'I': 8, 'J': 9, 'K': 10, 'L': 11}\n",
        "# Defining the actions\n",
        "actions = [0,1,2,3,4,5,6,7,8,9,10,11]\n",
        "# Defining the rewards\n",
        "R = np.array([[0,1,0,0,0,0,0,0,0,0,0,0],\n",
        "              [1,0,1,0,0,1,0,0,0,0,0,0],\n",
        "              [0,1,0,0,0,0,1,0,0,0,0,0],\n",
        "              [0,0,0,0,0,0,0,1,0,0,0,0],\n",
        "              [0,0,0,0,0,0,0,0,1,0,0,0],\n",
        "              [0,1,0,0,0,0,0,0,0,1,0,0],\n",
        "              [0,0,1,0,0,0,1,1,0,0,0,0],\n",
        "              [0,0,0,1,0,0,1,0,0,0,0,1],\n",
        "              [0,0,0,0,1,0,0,0,0,1,0,0],\n",
        "              [0,0,0,0,0,1,0,0,1,0,1,0],\n",
        "              [0,0,0,0,0,0,0,0,0,1,0,1],\n",
        "              [0,0,0,0,0,0,0,1,0,0,1,0]])\n",
        "\n",
        "# PART 2- BUILDING THE AI SOLUTION WITH Q-LEARNING\n",
        "# Making a mapping from the states to the locations\n",
        "state_to_location = {state: location for location, state in location_to_state.items()}\n",
        "\n",
        "# Making a function that returns the shortest route from a starting to ending location\n",
        "def route(starting_location, ending_location):\n",
        "    R_new = np.copy(R)\n",
        "    ending_state = location_to_state[ending_location]\n",
        "    R_new[ending_state, ending_state] = 1000\n",
        "    Q = np.array(np.zeros([12,12]))\n",
        "    for i in range(1000):\n",
        "        current_state = np.random.randint(0,12)\n",
        "        playable_actions = []\n",
        "        for j in range(12):\n",
        "            if R_new[current_state, j] > 0:\n",
        "                playable_actions.append(j)\n",
        "        next_state = np.random.choice(playable_actions)\n",
        "        TD = R_new[current_state, next_state] + gamma * Q[next_state, np.argmax(Q[next_state,])] - Q[current_state, next_state]\n",
        "        Q[current_state, next_state] = Q[current_state, next_state] + alpha * TD\n",
        "        route = [starting_location]\n",
        "        next_location = starting_location\n",
        "        while (next_location != ending_location):\n",
        "            starting_state = location_to_state[starting_location]\n",
        "            next_state = np.argmax(Q[starting_state,])\n",
        "            next_location = state_to_location[next_state]\n",
        "            route.append(next_location)\n",
        "            starting_location = next_location\n",
        "    return route\n",
        "\n",
        "# PART 3- GOING INTO PRODUCTION\n",
        "# Making the final function that returns the optimal route\n",
        "def best_route(starting_location, intermediary_location, ending_location):\n",
        "    return route(starting_location, intermediary_location) + route(intermediary_location, ending_location)[1:]\n",
        "\n",
        "# Printing the final route\n",
        "print('Route:')\n",
        "print(best_route('E', 'K', 'G'))\n"
      ]
    }
  ]
}