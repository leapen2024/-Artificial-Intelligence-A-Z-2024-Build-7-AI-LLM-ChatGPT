{
  "nbformat": 4,
  "nbformat_minor": 0,
  "metadata": {
    "colab": {
      "provenance": [],
      "authorship_tag": "ABX9TyMz2/6bbu01Gti+TdNG0G3c",
      "include_colab_link": true
    },
    "kernelspec": {
      "name": "python3",
      "display_name": "Python 3"
    },
    "language_info": {
      "name": "python"
    }
  },
  "cells": [
    {
      "cell_type": "markdown",
      "metadata": {
        "id": "view-in-github",
        "colab_type": "text"
      },
      "source": [
        "<a href=\"https://colab.research.google.com/github/leapen2024/-Artificial-Intelligence-A-Z-2024-Build-7-AI-LLM-ChatGPT/blob/main/MultiarmedBanditJA.ipynb\" target=\"_parent\"><img src=\"https://colab.research.google.com/assets/colab-badge.svg\" alt=\"Open In Colab\"/></a>"
      ]
    },
    {
      "cell_type": "code",
      "execution_count": null,
      "metadata": {
        "colab": {
          "base_uri": "https://localhost:8080/"
        },
        "id": "UmCy3-aFvHQa",
        "outputId": "58b3b76d-fa4f-40c7-f8b7-51eecb3521fa"
      },
      "outputs": [
        {
          "output_type": "stream",
          "name": "stderr",
          "text": [
            "WARNING:tensorflow:From /usr/local/lib/python3.10/dist-packages/tensorflow/python/compat/v2_compat.py:108: disable_resource_variables (from tensorflow.python.ops.variable_scope) is deprecated and will be removed in a future version.\n",
            "Instructions for updating:\n",
            "non-resource variables are not supported in the long term\n",
            "WARNING:tensorflow:From /usr/local/lib/python3.10/dist-packages/tensorflow/python/util/tf_should_use.py:288: initialize_all_variables (from tensorflow.python.ops.variables) is deprecated and will be removed after 2017-03-02.\n",
            "Instructions for updating:\n",
            "Use `tf.global_variables_initializer` instead.\n"
          ]
        },
        {
          "output_type": "stream",
          "name": "stdout",
          "text": [
            "Running reward for the 4 bandits: [-1.  0.  0.  0.]\n",
            "Running reward for the 4 bandits: [-3. -1. -1. 30.]\n",
            "Running reward for the 4 bandits: [-4. -1. -1. 77.]\n",
            "Running reward for the 4 bandits: [ -5.  -1.   0. 125.]\n",
            "Running reward for the 4 bandits: [ -5.  -1.   1. 172.]\n",
            "Running reward for the 4 bandits: [ -5.  -2.   1. 217.]\n",
            "Running reward for the 4 bandits: [ -5.  -2.   1. 265.]\n",
            "Running reward for the 4 bandits: [ -4.  -2.   2. 311.]\n",
            "Running reward for the 4 bandits: [ -4.  -3.   2. 360.]\n",
            "Running reward for the 4 bandits: [ -3.  -3.   3. 406.]\n",
            "Running reward for the 4 bandits: [ -6.  -4.   2. 451.]\n",
            "Running reward for the 4 bandits: [ -5.  -8.   1. 491.]\n",
            "Running reward for the 4 bandits: [ -3.  -7.   1. 538.]\n",
            "Running reward for the 4 bandits: [ -3.  -6.   0. 582.]\n",
            "Running reward for the 4 bandits: [ -3.  -5.   0. 631.]\n",
            "Running reward for the 4 bandits: [ -3.  -5.   0. 677.]\n",
            "Running reward for the 4 bandits: [ -4.  -5.   1. 725.]\n",
            "Running reward for the 4 bandits: [ -7.  -6.   2. 768.]\n",
            "Running reward for the 4 bandits: [ -7.  -8.   3. 815.]\n",
            "Running reward for the 4 bandits: [ -7.  -9.   4. 863.]\n",
            "The agent thinks bandit 4 is the most promising....\n",
            "...and it was right!\n"
          ]
        }
      ],
      "source": [
        "#Simple Reinforcement Learning in Tensorflow Part 1:\n",
        "#The Multi-armed bandit\n",
        "#This tutorial contains a simple example of how to build a policy-gradient based agent that can solve the multi-armed bandit problem. For more information, see this Medium post.\n",
        "\n",
        "#For more Reinforcement Learning algorithms, including DQN and Model-based learning in Tensorflow.\n",
        "\n",
        "#import tensorflow as tf\n",
        "import tensorflow.compat.v1 as tf\n",
        "\n",
        "import numpy as np\n",
        "\n",
        "tf.disable_v2_behavior()  # Disable TensorFlow v2 behavior\n",
        "#The Bandits\n",
        "#Here we define our bandits. For this example we are using a four-armed bandit. The pullBandit function generates a random number from a normal distribution with a mean of 0. The lower the bandit number, the more likely a positive reward will be returned. We want our agent to learn to always choose the bandit that will give that positive reward.\n",
        "\n",
        "#List out our bandits. Currently bandit 4 (index#3) is set to most often provide a positive reward.\n",
        "bandits = [0.2,0,-0.2,-5]\n",
        "num_bandits = len(bandits)\n",
        "def pullBandit(bandit):\n",
        "    #Get a random number.\n",
        "    result = np.random.randn(1)\n",
        "    if result > bandit:\n",
        "        #return a positive reward.\n",
        "        return 1\n",
        "    else:\n",
        "        #return a negative reward.\n",
        "        return -1\n",
        "#The Agent\n",
        "#The code below established our simple neural agent. It consists of a set of values for each of the bandits. Each value is an estimate of the value of the return from choosing the bandit. We use a policy gradient method to update the agent by moving the value for the selected action toward the recieved reward.\n",
        "\n",
        "#tf.reset_default_graph() #old version of TensorFlow requires this line. Remove for new version\n",
        "\n",
        "#These two lines established the feed-forward part of the network. This does the actual choosing.\n",
        "weights = tf.Variable(tf.ones([num_bandits]))\n",
        "chosen_action = tf.argmax(weights,0)\n",
        "\n",
        "#The next six lines establish the training proceedure. We feed the reward and chosen action into the network\n",
        "#to compute the loss, and use it to update the network.\n",
        "reward_holder = tf.placeholder(shape=[1],dtype=tf.float32)\n",
        "action_holder = tf.placeholder(shape=[1],dtype=tf.int32)\n",
        "responsible_weight = tf.slice(weights,action_holder,[1])\n",
        "loss = -(tf.log(responsible_weight)*reward_holder)\n",
        "optimizer = tf.train.GradientDescentOptimizer(learning_rate=0.001)\n",
        "update = optimizer.minimize(loss)\n",
        "#Training the Agent\n",
        "#We will train our agent by taking actions in our environment, and recieving rewards. Using the rewards and actions, we can know how to properly update our network in order to more often choose actions that will yield the highest rewards over time.\n",
        "\n",
        "total_episodes = 1000 #Set total number of episodes to train agent on.\n",
        "total_reward = np.zeros(num_bandits) #Set scoreboard for bandits to 0.\n",
        "e = 0.1 #Set the chance of taking a random action.\n",
        "\n",
        "init = tf.initialize_all_variables()\n",
        "\n",
        "# Launch the tensorflow graph\n",
        "with tf.Session() as sess:\n",
        "    sess.run(init)\n",
        "    i = 0\n",
        "    while i < total_episodes:\n",
        "\n",
        "        #Choose either a random action or one from our network.\n",
        "        if np.random.rand(1) < e:\n",
        "            action = np.random.randint(num_bandits)\n",
        "        else:\n",
        "            action = sess.run(chosen_action)\n",
        "\n",
        "        reward = pullBandit(bandits[action]) #Get our reward from picking one of the bandits.\n",
        "\n",
        "        #Update the network.\n",
        "        _,resp,ww = sess.run([update,responsible_weight,weights], feed_dict={reward_holder:[reward],action_holder:[action]})\n",
        "\n",
        "        #Update our running tally of scores.\n",
        "        total_reward[action] += reward\n",
        "        if i % 50 == 0:\n",
        "            print (\"Running reward for the \" + str(num_bandits) + \" bandits: \" + str(total_reward))\n",
        "        i+=1\n",
        "print (\"The agent thinks bandit \" + str(np.argmax(ww)+1) + \" is the most promising....\")\n",
        "if np.argmax(ww) == np.argmax(-np.array(bandits)):\n",
        "    print (\"...and it was right!\")\n",
        "else:\n",
        "    print (\"...and it was wrong!\")"
      ]
    }
  ]
}